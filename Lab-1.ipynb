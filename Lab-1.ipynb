{
  "nbformat": 4,
  "nbformat_minor": 0,
  "metadata": {
    "colab": {
      "name": "Lab1_2021csz0027_Aanchal.ipynb",
      "provenance": [],
      "collapsed_sections": []
    },
    "kernelspec": {
      "name": "python3",
      "display_name": "Python 3"
    },
    "language_info": {
      "name": "python"
    }
  },
  "cells": [
    {
      "cell_type": "code",
      "execution_count": 115,
      "metadata": {
        "id": "5BSAYuZFOanD"
      },
      "outputs": [],
      "source": [
        "import numpy as np\n"
      ]
    },
    {
      "cell_type": "markdown",
      "source": [
        "2: Create an array of 10 zeros# np.zeros"
      ],
      "metadata": {
        "id": "HDjvEe99eEjf"
      }
    },
    {
      "cell_type": "code",
      "source": [
        "array = np.zeros(10)\n",
        "print(array)"
      ],
      "metadata": {
        "colab": {
          "base_uri": "https://localhost:8080/"
        },
        "id": "hw4Op-U9eFXD",
        "outputId": "26b25b57-ef4a-4696-abfa-da41344bd6d5"
      },
      "execution_count": 116,
      "outputs": [
        {
          "output_type": "stream",
          "name": "stdout",
          "text": [
            "[0. 0. 0. 0. 0. 0. 0. 0. 0. 0.]\n"
          ]
        }
      ]
    },
    {
      "cell_type": "markdown",
      "source": [
        "3: Create an array of 10 ones"
      ],
      "metadata": {
        "id": "Ghg-n7xXfHWx"
      }
    },
    {
      "cell_type": "code",
      "source": [
        "array_of_ones = np.ones(10)\n",
        "print(array_of_ones)"
      ],
      "metadata": {
        "colab": {
          "base_uri": "https://localhost:8080/"
        },
        "id": "nr59K2bVfIY2",
        "outputId": "15fb836a-ee92-461d-f52b-399c9cf434c1"
      },
      "execution_count": 117,
      "outputs": [
        {
          "output_type": "stream",
          "name": "stdout",
          "text": [
            "[1. 1. 1. 1. 1. 1. 1. 1. 1. 1.]\n"
          ]
        }
      ]
    },
    {
      "cell_type": "markdown",
      "source": [
        "4: Create an array of 10 fives"
      ],
      "metadata": {
        "id": "GjPI_YsxfbCg"
      }
    },
    {
      "cell_type": "code",
      "source": [
        "array_of_fives = np.ones(10)*5\n",
        "print(array_of_fives)"
      ],
      "metadata": {
        "colab": {
          "base_uri": "https://localhost:8080/"
        },
        "id": "BPxC73dmfWLA",
        "outputId": "60b421dc-692a-4c5c-b104-abbae04e258c"
      },
      "execution_count": 118,
      "outputs": [
        {
          "output_type": "stream",
          "name": "stdout",
          "text": [
            "[5. 5. 5. 5. 5. 5. 5. 5. 5. 5.]\n"
          ]
        }
      ]
    },
    {
      "cell_type": "markdown",
      "source": [
        "5: Create an array of the integers from 10 to 50"
      ],
      "metadata": {
        "id": "S87k1e_Pfx52"
      }
    },
    {
      "cell_type": "code",
      "source": [
        "arr = np.arange(10,51)\n",
        "arr"
      ],
      "metadata": {
        "colab": {
          "base_uri": "https://localhost:8080/"
        },
        "id": "NraAGmXvf-bB",
        "outputId": "3ac8fe69-5342-4c12-ed8f-bf0feed8cd3a"
      },
      "execution_count": 119,
      "outputs": [
        {
          "output_type": "execute_result",
          "data": {
            "text/plain": [
              "array([10, 11, 12, 13, 14, 15, 16, 17, 18, 19, 20, 21, 22, 23, 24, 25, 26,\n",
              "       27, 28, 29, 30, 31, 32, 33, 34, 35, 36, 37, 38, 39, 40, 41, 42, 43,\n",
              "       44, 45, 46, 47, 48, 49, 50])"
            ]
          },
          "metadata": {},
          "execution_count": 119
        }
      ]
    },
    {
      "cell_type": "markdown",
      "source": [
        "6: Create an array of all the even integers from 10 to 50"
      ],
      "metadata": {
        "id": "mvn_lDrQgL4D"
      }
    },
    {
      "cell_type": "code",
      "source": [
        "arr_of_even_integers = np.arange(10,51,2)\n",
        "arr_of_even_integers"
      ],
      "metadata": {
        "colab": {
          "base_uri": "https://localhost:8080/"
        },
        "id": "iotBtvYBf1QJ",
        "outputId": "6c7cbd7b-14d6-4749-a3fe-42dd9b108913"
      },
      "execution_count": 120,
      "outputs": [
        {
          "output_type": "execute_result",
          "data": {
            "text/plain": [
              "array([10, 12, 14, 16, 18, 20, 22, 24, 26, 28, 30, 32, 34, 36, 38, 40, 42,\n",
              "       44, 46, 48, 50])"
            ]
          },
          "metadata": {},
          "execution_count": 120
        }
      ]
    },
    {
      "cell_type": "markdown",
      "source": [
        "7: Create a 3x3 matrix with values ranging from 0 to 8"
      ],
      "metadata": {
        "id": "gKriGWyPghS_"
      }
    },
    {
      "cell_type": "code",
      "source": [
        "matrix = np.arange(0,9).reshape(3,3)\n",
        "matrix"
      ],
      "metadata": {
        "colab": {
          "base_uri": "https://localhost:8080/"
        },
        "id": "okKmVQmwgXHc",
        "outputId": "a97f67df-e8f7-4e9f-d56b-16e36ed98e36"
      },
      "execution_count": 121,
      "outputs": [
        {
          "output_type": "execute_result",
          "data": {
            "text/plain": [
              "array([[0, 1, 2],\n",
              "       [3, 4, 5],\n",
              "       [6, 7, 8]])"
            ]
          },
          "metadata": {},
          "execution_count": 121
        }
      ]
    },
    {
      "cell_type": "markdown",
      "source": [
        "8: Create a 3x3 identity matrix"
      ],
      "metadata": {
        "id": "bTFfZUE3hAJv"
      }
    },
    {
      "cell_type": "code",
      "source": [
        "matrix = np.identity(3)\n",
        "matrix"
      ],
      "metadata": {
        "colab": {
          "base_uri": "https://localhost:8080/"
        },
        "id": "YsAWsTUrhA_H",
        "outputId": "147c6df6-bb62-4c64-8af7-870dba25c0d4"
      },
      "execution_count": 122,
      "outputs": [
        {
          "output_type": "execute_result",
          "data": {
            "text/plain": [
              "array([[1., 0., 0.],\n",
              "       [0., 1., 0.],\n",
              "       [0., 0., 1.]])"
            ]
          },
          "metadata": {},
          "execution_count": 122
        }
      ]
    },
    {
      "cell_type": "markdown",
      "source": [
        "9: Use NumPy to generate a random number between 0 and 1"
      ],
      "metadata": {
        "id": "x9-z2Qzzh9Y6"
      }
    },
    {
      "cell_type": "code",
      "source": [
        "from numpy import random \n",
        "rand_num = random.rand(1)\n",
        "print(rand_num)"
      ],
      "metadata": {
        "colab": {
          "base_uri": "https://localhost:8080/"
        },
        "id": "XKN7L1l_iBE0",
        "outputId": "5fb81e78-1924-4ad1-a5d3-1ab171e00ec4"
      },
      "execution_count": 123,
      "outputs": [
        {
          "output_type": "stream",
          "name": "stdout",
          "text": [
            "[0.41606949]\n"
          ]
        }
      ]
    },
    {
      "cell_type": "markdown",
      "source": [
        "10:Use NumPy to generate an array of 25 random numbers sampled from a standard\n",
        "normal distribution"
      ],
      "metadata": {
        "id": "-OsGQdNslEOr"
      }
    },
    {
      "cell_type": "code",
      "source": [
        "import numpy as np\n",
        "rand_num1 = np.random.normal(0,1,25)\n",
        "print(\"25 random numbers from a standard normal distribution:\")\n",
        "rand_num1"
      ],
      "metadata": {
        "colab": {
          "base_uri": "https://localhost:8080/"
        },
        "id": "SLNqQlrOihzj",
        "outputId": "1f42e199-0974-49bb-edec-9fc51a728015"
      },
      "execution_count": 124,
      "outputs": [
        {
          "output_type": "stream",
          "name": "stdout",
          "text": [
            "25 random numbers from a standard normal distribution:\n"
          ]
        },
        {
          "output_type": "execute_result",
          "data": {
            "text/plain": [
              "array([-1.18856238,  0.86831482, -0.26230742, -1.47049221,  0.07050011,\n",
              "        1.17070874,  1.06949334, -0.31740473,  0.00359866,  0.14587214,\n",
              "        1.69469737,  1.55755912,  1.25122353, -0.65072679,  0.25282629,\n",
              "        0.56538707, -1.01247697, -0.80881346,  0.92467773, -0.58308364,\n",
              "       -1.0254151 , -0.09086651,  0.73084079,  0.30396082,  0.1991885 ])"
            ]
          },
          "metadata": {},
          "execution_count": 124
        }
      ]
    },
    {
      "cell_type": "markdown",
      "source": [
        "11: Create an array of 20 linearly spaced points between 0 and 1:"
      ],
      "metadata": {
        "id": "vwzk0UwV5T9n"
      }
    },
    {
      "cell_type": "code",
      "source": [
        "rand_num1 = np.linspace(0,1,20)\n",
        "print(\"20 linear numbers between 0 and 1:\")\n",
        "rand_num1"
      ],
      "metadata": {
        "colab": {
          "base_uri": "https://localhost:8080/"
        },
        "id": "fnvl3fCM5V9V",
        "outputId": "d749dc98-482e-47e7-fbba-d79a288be39c"
      },
      "execution_count": 125,
      "outputs": [
        {
          "output_type": "stream",
          "name": "stdout",
          "text": [
            "20 linear numbers between 0 and 1:\n"
          ]
        },
        {
          "output_type": "execute_result",
          "data": {
            "text/plain": [
              "array([0.        , 0.05263158, 0.10526316, 0.15789474, 0.21052632,\n",
              "       0.26315789, 0.31578947, 0.36842105, 0.42105263, 0.47368421,\n",
              "       0.52631579, 0.57894737, 0.63157895, 0.68421053, 0.73684211,\n",
              "       0.78947368, 0.84210526, 0.89473684, 0.94736842, 1.        ])"
            ]
          },
          "metadata": {},
          "execution_count": 125
        }
      ]
    },
    {
      "cell_type": "markdown",
      "source": [
        "Perform Numpy Indexing and Selection using the matrix generated using the code\n",
        "below:"
      ],
      "metadata": {
        "id": "U0iHuMMRIDkV"
      }
    },
    {
      "cell_type": "code",
      "source": [
        "mat = np.arange(1,26).reshape(5,5)\n",
        "mat"
      ],
      "metadata": {
        "colab": {
          "base_uri": "https://localhost:8080/"
        },
        "id": "AcQxMd9SIIM2",
        "outputId": "9d44fea6-9e8a-46e8-8410-18ad50cf0fa7"
      },
      "execution_count": 126,
      "outputs": [
        {
          "output_type": "execute_result",
          "data": {
            "text/plain": [
              "array([[ 1,  2,  3,  4,  5],\n",
              "       [ 6,  7,  8,  9, 10],\n",
              "       [11, 12, 13, 14, 15],\n",
              "       [16, 17, 18, 19, 20],\n",
              "       [21, 22, 23, 24, 25]])"
            ]
          },
          "metadata": {},
          "execution_count": 126
        }
      ]
    },
    {
      "cell_type": "markdown",
      "source": [
        "12: Write the code snippet such that the output is as follows from the matrix mat\n",
        "array([[12, 13, 14, 15],\n",
        "[17, 18, 19, 20],\n",
        "[22, 23, 24, 25]])"
      ],
      "metadata": {
        "id": "8o80Zu2RJw4p"
      }
    },
    {
      "cell_type": "code",
      "source": [
        "mat[2:,1:]\n"
      ],
      "metadata": {
        "colab": {
          "base_uri": "https://localhost:8080/"
        },
        "id": "LM3D5NYSKYWT",
        "outputId": "b67caa62-bc35-4054-93a7-db041afb6a35"
      },
      "execution_count": 127,
      "outputs": [
        {
          "output_type": "execute_result",
          "data": {
            "text/plain": [
              "array([[12, 13, 14, 15],\n",
              "       [17, 18, 19, 20],\n",
              "       [22, 23, 24, 25]])"
            ]
          },
          "metadata": {},
          "execution_count": 127
        }
      ]
    },
    {
      "cell_type": "markdown",
      "source": [
        "13: Write the code snippet such that the output is as follows from the matrix mat\n",
        "20"
      ],
      "metadata": {
        "id": "CFFZ22aqRgEf"
      }
    },
    {
      "cell_type": "code",
      "source": [
        "mat[-2,-1]\n"
      ],
      "metadata": {
        "colab": {
          "base_uri": "https://localhost:8080/"
        },
        "id": "d8yDOPHKNkiD",
        "outputId": "5bb9ff9c-6aa4-440b-c662-95ce9a720d62"
      },
      "execution_count": 128,
      "outputs": [
        {
          "output_type": "execute_result",
          "data": {
            "text/plain": [
              "20"
            ]
          },
          "metadata": {},
          "execution_count": 128
        }
      ]
    },
    {
      "cell_type": "markdown",
      "source": [
        "14: Write the code snippet such that the output is as follows from the matrix mat\n",
        "array([[ 2],\n",
        "[ 7],\n",
        "[12]])"
      ],
      "metadata": {
        "id": "YzZq4SARR3X2"
      }
    },
    {
      "cell_type": "code",
      "source": [
        "mat[0:-2,1]"
      ],
      "metadata": {
        "colab": {
          "base_uri": "https://localhost:8080/"
        },
        "id": "IUvPd9_KR7Ho",
        "outputId": "b89711b3-3348-46b0-fff7-49d1ffe14680"
      },
      "execution_count": 129,
      "outputs": [
        {
          "output_type": "execute_result",
          "data": {
            "text/plain": [
              "array([ 2,  7, 12])"
            ]
          },
          "metadata": {},
          "execution_count": 129
        }
      ]
    },
    {
      "cell_type": "markdown",
      "source": [
        "15: Write the code snippet such that the output is as follows from the matrix mat\n",
        "array([21, 22, 23, 24, 25])"
      ],
      "metadata": {
        "id": "edjNcQMiSgDs"
      }
    },
    {
      "cell_type": "code",
      "source": [
        "mat[-1:]"
      ],
      "metadata": {
        "colab": {
          "base_uri": "https://localhost:8080/"
        },
        "id": "Szwhe88LSkgu",
        "outputId": "048b1e9c-e832-4f60-8d94-dd45a5745cf7"
      },
      "execution_count": 130,
      "outputs": [
        {
          "output_type": "execute_result",
          "data": {
            "text/plain": [
              "array([[21, 22, 23, 24, 25]])"
            ]
          },
          "metadata": {},
          "execution_count": 130
        }
      ]
    },
    {
      "cell_type": "markdown",
      "source": [
        "16:Get the sum of all the values in the mat\n",
        "\n",
        "17:Get the standard deviation of the values in the mat\n",
        "\n",
        "18:Get the sum of all the columns on the mat"
      ],
      "metadata": {
        "id": "RtyQkW1XS24z"
      }
    },
    {
      "cell_type": "code",
      "source": [
        "sum_mat=mat.sum()\n",
        "print(\"sum of all the values in matrix mat is\", sum_mat, \"\\n\")\n",
        "\n",
        "#std_dev_mat= mat.std()\n",
        "std_dev_mat= np.std(mat)\n",
        "print(\"std_dev of all the values in matrix mat is\", std_dev_mat, \"\\n\")\n",
        "\n",
        "column_sum= mat.sum(axis=0)\n",
        "print(\"sum of all the column values\", column_sum)\n",
        "\n"
      ],
      "metadata": {
        "colab": {
          "base_uri": "https://localhost:8080/"
        },
        "id": "6JMECz79TJHj",
        "outputId": "64f75c4d-16b9-4453-8928-cda5852d7cf5"
      },
      "execution_count": 131,
      "outputs": [
        {
          "output_type": "stream",
          "name": "stdout",
          "text": [
            "sum of all the values in matrix mat is 325 \n",
            "\n",
            "std_dev of all the values in matrix mat is 7.211102550927978 \n",
            "\n",
            "sum of all the column values [55 60 65 70 75]\n"
          ]
        }
      ]
    },
    {
      "cell_type": "markdown",
      "source": [
        "19:Import pandas and read in the Ecommerce Purchases csv file and set it to a\n",
        "DataFrame called ecom"
      ],
      "metadata": {
        "id": "h8Sm4gzTuT7-"
      }
    },
    {
      "cell_type": "code",
      "source": [
        "import pandas as pd\n",
        "from google.colab import files\n",
        "#uploaded = files.upload()"
      ],
      "metadata": {
        "id": "iwVkITXGuauq"
      },
      "execution_count": 132,
      "outputs": []
    },
    {
      "cell_type": "code",
      "source": [
        ""
      ],
      "metadata": {
        "id": "rRongTkUwNq9"
      },
      "execution_count": 132,
      "outputs": []
    },
    {
      "cell_type": "markdown",
      "source": [
        "20: Print the head of the DataFrame.\n",
        "\n",
        "21: How many rows and columns are there?"
      ],
      "metadata": {
        "id": "qGo_ciC-vXrV"
      }
    },
    {
      "cell_type": "code",
      "source": [
        "ecom = pd.read_csv(\"/content/drive/MyDrive/Multimedia Systems/Ecommerce Purchases.csv\")\n",
        "print(\"The head of the dataframe ---ecom--- is \\n \")\n",
        "ecom.head()"
      ],
      "metadata": {
        "colab": {
          "base_uri": "https://localhost:8080/",
          "height": 688
        },
        "id": "UQ8WtpJGuYte",
        "outputId": "5665b403-c758-48d9-cf25-d5062e0e538a"
      },
      "execution_count": 133,
      "outputs": [
        {
          "output_type": "stream",
          "name": "stdout",
          "text": [
            "The head of the dataframe ---ecom--- is \n",
            " \n"
          ]
        },
        {
          "output_type": "execute_result",
          "data": {
            "text/plain": [
              "                                             Address    Lot AM or PM  \\\n",
              "0  16629 Pace Camp Apt. 448\\nAlexisborough, NE 77...  46 in       PM   \n",
              "1  9374 Jasmine Spurs Suite 508\\nSouth John, TN 8...  28 rn       PM   \n",
              "2                   Unit 0065 Box 5052\\nDPO AP 27450  94 vE       PM   \n",
              "3              7780 Julia Fords\\nNew Stacy, WA 45798  36 vm       PM   \n",
              "4  23012 Munoz Drive Suite 337\\nNew Cynthia, TX 5...  20 IE       AM   \n",
              "\n",
              "                                        Browser Info  \\\n",
              "0  Opera/9.56.(X11; Linux x86_64; sl-SI) Presto/2...   \n",
              "1  Opera/8.93.(Windows 98; Win 9x 4.90; en-US) Pr...   \n",
              "2  Mozilla/5.0 (compatible; MSIE 9.0; Windows NT ...   \n",
              "3  Mozilla/5.0 (Macintosh; Intel Mac OS X 10_8_0 ...   \n",
              "4  Opera/9.58.(X11; Linux x86_64; it-IT) Presto/2...   \n",
              "\n",
              "                           Company   Credit Card CC Exp Date  \\\n",
              "0                  Martinez-Herman  6.011930e+15      Feb-20   \n",
              "1  Fletcher, Richards and Whitaker  3.337760e+15      Nov-18   \n",
              "2       Simpson, Williams and Pham  6.759580e+11      Aug-19   \n",
              "3  Williams, Marshall and Buchanan  6.010000e+15      Feb-24   \n",
              "4        Brown, Watson and Andrews  6.011460e+15      Oct-25   \n",
              "\n",
              "   CC Security Code                  CC Provider  \\\n",
              "0               900                 JCB 16 digit   \n",
              "1               561                   Mastercard   \n",
              "2               699                 JCB 16 digit   \n",
              "3               384                     Discover   \n",
              "4               678  Diners Club / Carte Blanche   \n",
              "\n",
              "                            Email                                     Job  \\\n",
              "0               pdunlap@yahoo.com  Scientist, product/process development   \n",
              "1              anthony41@reed.com                       Drilling engineer   \n",
              "2  amymiller@morales-harrison.com                Customer service manager   \n",
              "3     brent16@olson-robinson.info                       Drilling engineer   \n",
              "4     christopherwright@gmail.com                             Fine artist   \n",
              "\n",
              "        IP Address Language  Purchase Price  \n",
              "0  149.146.147.205       el           98.14  \n",
              "1     15.160.41.51       fr           70.73  \n",
              "2   132.207.160.22       de            0.95  \n",
              "3     30.250.74.19       es           78.04  \n",
              "4     24.140.33.94       es           77.82  "
            ],
            "text/html": [
              "\n",
              "  <div id=\"df-a090984e-82f4-4d4b-95f7-db017312d959\">\n",
              "    <div class=\"colab-df-container\">\n",
              "      <div>\n",
              "<style scoped>\n",
              "    .dataframe tbody tr th:only-of-type {\n",
              "        vertical-align: middle;\n",
              "    }\n",
              "\n",
              "    .dataframe tbody tr th {\n",
              "        vertical-align: top;\n",
              "    }\n",
              "\n",
              "    .dataframe thead th {\n",
              "        text-align: right;\n",
              "    }\n",
              "</style>\n",
              "<table border=\"1\" class=\"dataframe\">\n",
              "  <thead>\n",
              "    <tr style=\"text-align: right;\">\n",
              "      <th></th>\n",
              "      <th>Address</th>\n",
              "      <th>Lot</th>\n",
              "      <th>AM or PM</th>\n",
              "      <th>Browser Info</th>\n",
              "      <th>Company</th>\n",
              "      <th>Credit Card</th>\n",
              "      <th>CC Exp Date</th>\n",
              "      <th>CC Security Code</th>\n",
              "      <th>CC Provider</th>\n",
              "      <th>Email</th>\n",
              "      <th>Job</th>\n",
              "      <th>IP Address</th>\n",
              "      <th>Language</th>\n",
              "      <th>Purchase Price</th>\n",
              "    </tr>\n",
              "  </thead>\n",
              "  <tbody>\n",
              "    <tr>\n",
              "      <th>0</th>\n",
              "      <td>16629 Pace Camp Apt. 448\\nAlexisborough, NE 77...</td>\n",
              "      <td>46 in</td>\n",
              "      <td>PM</td>\n",
              "      <td>Opera/9.56.(X11; Linux x86_64; sl-SI) Presto/2...</td>\n",
              "      <td>Martinez-Herman</td>\n",
              "      <td>6.011930e+15</td>\n",
              "      <td>Feb-20</td>\n",
              "      <td>900</td>\n",
              "      <td>JCB 16 digit</td>\n",
              "      <td>pdunlap@yahoo.com</td>\n",
              "      <td>Scientist, product/process development</td>\n",
              "      <td>149.146.147.205</td>\n",
              "      <td>el</td>\n",
              "      <td>98.14</td>\n",
              "    </tr>\n",
              "    <tr>\n",
              "      <th>1</th>\n",
              "      <td>9374 Jasmine Spurs Suite 508\\nSouth John, TN 8...</td>\n",
              "      <td>28 rn</td>\n",
              "      <td>PM</td>\n",
              "      <td>Opera/8.93.(Windows 98; Win 9x 4.90; en-US) Pr...</td>\n",
              "      <td>Fletcher, Richards and Whitaker</td>\n",
              "      <td>3.337760e+15</td>\n",
              "      <td>Nov-18</td>\n",
              "      <td>561</td>\n",
              "      <td>Mastercard</td>\n",
              "      <td>anthony41@reed.com</td>\n",
              "      <td>Drilling engineer</td>\n",
              "      <td>15.160.41.51</td>\n",
              "      <td>fr</td>\n",
              "      <td>70.73</td>\n",
              "    </tr>\n",
              "    <tr>\n",
              "      <th>2</th>\n",
              "      <td>Unit 0065 Box 5052\\nDPO AP 27450</td>\n",
              "      <td>94 vE</td>\n",
              "      <td>PM</td>\n",
              "      <td>Mozilla/5.0 (compatible; MSIE 9.0; Windows NT ...</td>\n",
              "      <td>Simpson, Williams and Pham</td>\n",
              "      <td>6.759580e+11</td>\n",
              "      <td>Aug-19</td>\n",
              "      <td>699</td>\n",
              "      <td>JCB 16 digit</td>\n",
              "      <td>amymiller@morales-harrison.com</td>\n",
              "      <td>Customer service manager</td>\n",
              "      <td>132.207.160.22</td>\n",
              "      <td>de</td>\n",
              "      <td>0.95</td>\n",
              "    </tr>\n",
              "    <tr>\n",
              "      <th>3</th>\n",
              "      <td>7780 Julia Fords\\nNew Stacy, WA 45798</td>\n",
              "      <td>36 vm</td>\n",
              "      <td>PM</td>\n",
              "      <td>Mozilla/5.0 (Macintosh; Intel Mac OS X 10_8_0 ...</td>\n",
              "      <td>Williams, Marshall and Buchanan</td>\n",
              "      <td>6.010000e+15</td>\n",
              "      <td>Feb-24</td>\n",
              "      <td>384</td>\n",
              "      <td>Discover</td>\n",
              "      <td>brent16@olson-robinson.info</td>\n",
              "      <td>Drilling engineer</td>\n",
              "      <td>30.250.74.19</td>\n",
              "      <td>es</td>\n",
              "      <td>78.04</td>\n",
              "    </tr>\n",
              "    <tr>\n",
              "      <th>4</th>\n",
              "      <td>23012 Munoz Drive Suite 337\\nNew Cynthia, TX 5...</td>\n",
              "      <td>20 IE</td>\n",
              "      <td>AM</td>\n",
              "      <td>Opera/9.58.(X11; Linux x86_64; it-IT) Presto/2...</td>\n",
              "      <td>Brown, Watson and Andrews</td>\n",
              "      <td>6.011460e+15</td>\n",
              "      <td>Oct-25</td>\n",
              "      <td>678</td>\n",
              "      <td>Diners Club / Carte Blanche</td>\n",
              "      <td>christopherwright@gmail.com</td>\n",
              "      <td>Fine artist</td>\n",
              "      <td>24.140.33.94</td>\n",
              "      <td>es</td>\n",
              "      <td>77.82</td>\n",
              "    </tr>\n",
              "  </tbody>\n",
              "</table>\n",
              "</div>\n",
              "      <button class=\"colab-df-convert\" onclick=\"convertToInteractive('df-a090984e-82f4-4d4b-95f7-db017312d959')\"\n",
              "              title=\"Convert this dataframe to an interactive table.\"\n",
              "              style=\"display:none;\">\n",
              "        \n",
              "  <svg xmlns=\"http://www.w3.org/2000/svg\" height=\"24px\"viewBox=\"0 0 24 24\"\n",
              "       width=\"24px\">\n",
              "    <path d=\"M0 0h24v24H0V0z\" fill=\"none\"/>\n",
              "    <path d=\"M18.56 5.44l.94 2.06.94-2.06 2.06-.94-2.06-.94-.94-2.06-.94 2.06-2.06.94zm-11 1L8.5 8.5l.94-2.06 2.06-.94-2.06-.94L8.5 2.5l-.94 2.06-2.06.94zm10 10l.94 2.06.94-2.06 2.06-.94-2.06-.94-.94-2.06-.94 2.06-2.06.94z\"/><path d=\"M17.41 7.96l-1.37-1.37c-.4-.4-.92-.59-1.43-.59-.52 0-1.04.2-1.43.59L10.3 9.45l-7.72 7.72c-.78.78-.78 2.05 0 2.83L4 21.41c.39.39.9.59 1.41.59.51 0 1.02-.2 1.41-.59l7.78-7.78 2.81-2.81c.8-.78.8-2.07 0-2.86zM5.41 20L4 18.59l7.72-7.72 1.47 1.35L5.41 20z\"/>\n",
              "  </svg>\n",
              "      </button>\n",
              "      \n",
              "  <style>\n",
              "    .colab-df-container {\n",
              "      display:flex;\n",
              "      flex-wrap:wrap;\n",
              "      gap: 12px;\n",
              "    }\n",
              "\n",
              "    .colab-df-convert {\n",
              "      background-color: #E8F0FE;\n",
              "      border: none;\n",
              "      border-radius: 50%;\n",
              "      cursor: pointer;\n",
              "      display: none;\n",
              "      fill: #1967D2;\n",
              "      height: 32px;\n",
              "      padding: 0 0 0 0;\n",
              "      width: 32px;\n",
              "    }\n",
              "\n",
              "    .colab-df-convert:hover {\n",
              "      background-color: #E2EBFA;\n",
              "      box-shadow: 0px 1px 2px rgba(60, 64, 67, 0.3), 0px 1px 3px 1px rgba(60, 64, 67, 0.15);\n",
              "      fill: #174EA6;\n",
              "    }\n",
              "\n",
              "    [theme=dark] .colab-df-convert {\n",
              "      background-color: #3B4455;\n",
              "      fill: #D2E3FC;\n",
              "    }\n",
              "\n",
              "    [theme=dark] .colab-df-convert:hover {\n",
              "      background-color: #434B5C;\n",
              "      box-shadow: 0px 1px 3px 1px rgba(0, 0, 0, 0.15);\n",
              "      filter: drop-shadow(0px 1px 2px rgba(0, 0, 0, 0.3));\n",
              "      fill: #FFFFFF;\n",
              "    }\n",
              "  </style>\n",
              "\n",
              "      <script>\n",
              "        const buttonEl =\n",
              "          document.querySelector('#df-a090984e-82f4-4d4b-95f7-db017312d959 button.colab-df-convert');\n",
              "        buttonEl.style.display =\n",
              "          google.colab.kernel.accessAllowed ? 'block' : 'none';\n",
              "\n",
              "        async function convertToInteractive(key) {\n",
              "          const element = document.querySelector('#df-a090984e-82f4-4d4b-95f7-db017312d959');\n",
              "          const dataTable =\n",
              "            await google.colab.kernel.invokeFunction('convertToInteractive',\n",
              "                                                     [key], {});\n",
              "          if (!dataTable) return;\n",
              "\n",
              "          const docLinkHtml = 'Like what you see? Visit the ' +\n",
              "            '<a target=\"_blank\" href=https://colab.research.google.com/notebooks/data_table.ipynb>data table notebook</a>'\n",
              "            + ' to learn more about interactive tables.';\n",
              "          element.innerHTML = '';\n",
              "          dataTable['output_type'] = 'display_data';\n",
              "          await google.colab.output.renderOutput(dataTable, element);\n",
              "          const docLink = document.createElement('div');\n",
              "          docLink.innerHTML = docLinkHtml;\n",
              "          element.appendChild(docLink);\n",
              "        }\n",
              "      </script>\n",
              "    </div>\n",
              "  </div>\n",
              "  "
            ]
          },
          "metadata": {},
          "execution_count": 133
        }
      ]
    },
    {
      "cell_type": "markdown",
      "source": [
        "22: What is the average Purchase Price?"
      ],
      "metadata": {
        "id": "oP3FAilQbqsz"
      }
    },
    {
      "cell_type": "code",
      "source": [
        "ecom['Purchase Price'].mean()"
      ],
      "metadata": {
        "colab": {
          "base_uri": "https://localhost:8080/"
        },
        "id": "jmtkyv_Gbrly",
        "outputId": "05c962fe-c2c7-48da-87b5-08b472b9bfae"
      },
      "execution_count": 134,
      "outputs": [
        {
          "output_type": "execute_result",
          "data": {
            "text/plain": [
              "50.347302"
            ]
          },
          "metadata": {},
          "execution_count": 134
        }
      ]
    },
    {
      "cell_type": "markdown",
      "source": [
        "23: What were the highest and lowest purchase prices?"
      ],
      "metadata": {
        "id": "LSwpsIQQcOp3"
      }
    },
    {
      "cell_type": "code",
      "source": [
        "max_value= ecom['Purchase Price'].max()\n",
        "print(\"max value is\",max_value, \"\\n\")\n",
        "\n",
        "min_value= ecom['Purchase Price'].min()\n",
        "print(\"min value is\", min_value)"
      ],
      "metadata": {
        "colab": {
          "base_uri": "https://localhost:8080/"
        },
        "id": "l1dQLqQqcPma",
        "outputId": "c2f36ea2-352a-4f72-b46b-3d66e00c1a4f"
      },
      "execution_count": 135,
      "outputs": [
        {
          "output_type": "stream",
          "name": "stdout",
          "text": [
            "max value is 99.99 \n",
            "\n",
            "min value is 0.0\n"
          ]
        }
      ]
    },
    {
      "cell_type": "markdown",
      "source": [
        "24: How many people have English 'en' as their Language of choice on the website?"
      ],
      "metadata": {
        "id": "L-IiMdGddJcL"
      }
    },
    {
      "cell_type": "code",
      "source": [
        "df = ecom[ecom['Language'] == 'en']\n",
        "print(len(df))"
      ],
      "metadata": {
        "colab": {
          "base_uri": "https://localhost:8080/"
        },
        "id": "rTJ6z7NBdLAp",
        "outputId": "11ed5aaa-77cd-4747-f3e1-d093c8a18f66"
      },
      "execution_count": 136,
      "outputs": [
        {
          "output_type": "stream",
          "name": "stdout",
          "text": [
            "1098\n"
          ]
        }
      ]
    },
    {
      "cell_type": "markdown",
      "source": [
        "25: How many people have the job title of \"Lawyer\"?"
      ],
      "metadata": {
        "id": "9FGPIOzedbd5"
      }
    },
    {
      "cell_type": "code",
      "source": [
        "df = ecom[ecom['Job'] == 'Lawyer']\n",
        "print(len(df))"
      ],
      "metadata": {
        "colab": {
          "base_uri": "https://localhost:8080/"
        },
        "id": "HppPK7ZwdgzK",
        "outputId": "2b616dc2-cfc8-494a-c31e-5965892027b8"
      },
      "execution_count": 137,
      "outputs": [
        {
          "output_type": "stream",
          "name": "stdout",
          "text": [
            "30\n"
          ]
        }
      ]
    },
    {
      "cell_type": "markdown",
      "source": [
        "26: How many people made the purchase during the AM, and how many people\n",
        "made the purchase during PM?"
      ],
      "metadata": {
        "id": "qLFz-_VZdmp8"
      }
    },
    {
      "cell_type": "code",
      "source": [
        "df = ecom[ecom['AM or PM'] == 'AM']\n",
        "print(\"People made purchases during AM\")\n",
        "print(len(df))\n",
        "\n",
        "print(\"People made purchases during PM\")\n",
        "df = ecom[ecom['AM or PM'] == 'PM']\n",
        "print(len(df))"
      ],
      "metadata": {
        "colab": {
          "base_uri": "https://localhost:8080/"
        },
        "id": "aWioXWEWdn55",
        "outputId": "5757d184-575f-40c7-90ee-09e99af5c09c"
      },
      "execution_count": 138,
      "outputs": [
        {
          "output_type": "stream",
          "name": "stdout",
          "text": [
            "People made purchases during AM\n",
            "4932\n",
            "People made purchases during PM\n",
            "5068\n"
          ]
        }
      ]
    },
    {
      "cell_type": "markdown",
      "source": [
        "27: What are the 5 most common Job Titles?"
      ],
      "metadata": {
        "id": "rj25zipCdof_"
      }
    },
    {
      "cell_type": "code",
      "source": [
        "ecom.groupby(['Job']).size().sort_values(ascending=False).head(5) "
      ],
      "metadata": {
        "colab": {
          "base_uri": "https://localhost:8080/"
        },
        "id": "eZPXaSgpdsPp",
        "outputId": "4160cd4e-2682-4d0e-9bac-67b1dc12b1dc"
      },
      "execution_count": 139,
      "outputs": [
        {
          "output_type": "execute_result",
          "data": {
            "text/plain": [
              "Job\n",
              "Interior and spatial designer        31\n",
              "Lawyer                               30\n",
              "Social researcher                    28\n",
              "Designer, jewellery                  27\n",
              "Research officer, political party    27\n",
              "dtype: int64"
            ]
          },
          "metadata": {},
          "execution_count": 139
        }
      ]
    },
    {
      "cell_type": "markdown",
      "source": [
        "28: Someone made a purchase that came from Lot: \"90 WT\" what was the Purchase\n",
        "Price for this transaction?"
      ],
      "metadata": {
        "id": "NM4RUURQdvw5"
      }
    },
    {
      "cell_type": "code",
      "source": [
        "print(ecom[ecom['Lot'] == '90 WT']['Purchase Price'].values[0])"
      ],
      "metadata": {
        "colab": {
          "base_uri": "https://localhost:8080/"
        },
        "id": "QIPv4H0Vdz7H",
        "outputId": "3b22a70d-7988-4c04-b5d0-508d11498ee2"
      },
      "execution_count": 140,
      "outputs": [
        {
          "output_type": "stream",
          "name": "stdout",
          "text": [
            "75.1\n"
          ]
        }
      ]
    },
    {
      "cell_type": "markdown",
      "source": [
        "29: What is the email of the person with the following Credit Card Number:\n",
        "6011930000000000.0"
      ],
      "metadata": {
        "id": "Fw_0UVhxeCWi"
      }
    },
    {
      "cell_type": "code",
      "source": [
        "print(ecom[ecom['Credit Card'] == 6011930000000000.0]['Email'])"
      ],
      "metadata": {
        "colab": {
          "base_uri": "https://localhost:8080/"
        },
        "id": "qHmjog-1eKO5",
        "outputId": "cebc64c9-664e-46ba-f240-c288d1986576"
      },
      "execution_count": 141,
      "outputs": [
        {
          "output_type": "stream",
          "name": "stdout",
          "text": [
            "0                   pdunlap@yahoo.com\n",
            "898                 qdorsey@yahoo.com\n",
            "1027            woodsalison@yahoo.com\n",
            "1964            hannanicole@mills.com\n",
            "2126            hooverdavid@yahoo.com\n",
            "2149       reynoldsjonathan@brown.com\n",
            "2444              ortizrobert@ho.info\n",
            "2755               thomas10@yahoo.com\n",
            "4328    johnfrederick@mills-baker.com\n",
            "6662            clarksharon@gmail.com\n",
            "7640           hoffmanperry@yahoo.com\n",
            "8951          yrios@bryant-lawson.com\n",
            "Name: Email, dtype: object\n"
          ]
        }
      ]
    },
    {
      "cell_type": "markdown",
      "source": [
        " 30: How many people have American Express as their Credit Card Provider *and\n",
        "made a purchase above $95?"
      ],
      "metadata": {
        "id": "4-OYNp_MeK2m"
      }
    },
    {
      "cell_type": "code",
      "source": [
        "print(len(ecom[(ecom['CC Provider'] == 'American Express') & (ecom['Purchase Price'] > 95)]))"
      ],
      "metadata": {
        "colab": {
          "base_uri": "https://localhost:8080/"
        },
        "id": "TDEnozHCeQJG",
        "outputId": "4b34a26f-0d06-489a-9dcd-36614aeea018"
      },
      "execution_count": 142,
      "outputs": [
        {
          "output_type": "stream",
          "name": "stdout",
          "text": [
            "39\n"
          ]
        }
      ]
    },
    {
      "cell_type": "markdown",
      "source": [
        "31: How many people have a credit card that expires in 2025?"
      ],
      "metadata": {
        "id": "-6xtvzz_eUfW"
      }
    },
    {
      "cell_type": "code",
      "source": [
        "count = 0\n",
        "for i in range(len(ecom)):\n",
        "    expDate = ecom.loc[i, \"CC Exp Date\"].split('-')\n",
        "    if expDate[1] == '25':\n",
        "      count = count + 1\n",
        "print(count)"
      ],
      "metadata": {
        "colab": {
          "base_uri": "https://localhost:8080/"
        },
        "id": "jbmcm3B-ebY3",
        "outputId": "6039c491-fc45-4f5e-82d2-218ee2bca284"
      },
      "execution_count": 143,
      "outputs": [
        {
          "output_type": "stream",
          "name": "stdout",
          "text": [
            "1033\n"
          ]
        }
      ]
    },
    {
      "cell_type": "markdown",
      "source": [
        "32: What are the top 5 most popular email providers/hosts (e.g., gmail.com,\n",
        "yahoo.com, etc...)?\n"
      ],
      "metadata": {
        "id": "QVIpvirkebyd"
      }
    },
    {
      "cell_type": "code",
      "source": [
        "df = pd.DataFrame(columns=['provider'])\n",
        "for i in range(len(ecom)):\n",
        "    email = ecom.loc[i, \"Email\"].split('@')\n",
        "    df.loc[i] = [email[1]] \n",
        "print(df.groupby(['provider']).size().sort_values(ascending=False).head(5))\n",
        "    "
      ],
      "metadata": {
        "colab": {
          "base_uri": "https://localhost:8080/"
        },
        "id": "txgftO1Jec4q",
        "outputId": "c274b721-b907-49dd-a160-af66204a6665"
      },
      "execution_count": 144,
      "outputs": [
        {
          "output_type": "stream",
          "name": "stdout",
          "text": [
            "provider\n",
            "hotmail.com     1638\n",
            "yahoo.com       1616\n",
            "gmail.com       1605\n",
            "smith.com         42\n",
            "williams.com      37\n",
            "dtype: int64\n"
          ]
        }
      ]
    }
  ]
}